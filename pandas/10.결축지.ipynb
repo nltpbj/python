{
 "cells": [
  {
   "cell_type": "code",
   "execution_count": 1,
   "metadata": {},
   "outputs": [
    {
     "data": {
      "text/plain": [
       "({'이름': ['채치수', '정대만', '송태섭', '서태웅', '강백호', '변덕규', '황태산', '윤대협'],\n",
       "  '학교': ['북산고', '북산고', '북산고', '북산고', '북산고', '능남고', '능남고', '능남고'],\n",
       "  '키': [197, 184, 168, 187, 188, 202, 188, 190],\n",
       "  '국어': [90, 40, 80, 40, 15, 80, 55, 100],\n",
       "  '영어': [85, 35, 75, 60, 20, 100, 65, 85],\n",
       "  '수학': [100, 50, 70, 70, 10, 95, 45, 90],\n",
       "  '과학': [95, 55, 80, 75, 35, 85, 40, 95],\n",
       "  '사회': [85, 25, 75, 80, 10, 80, 35, 95],\n",
       "  'SW특기': ['Python', 'Java', 'Javascript', '', '', 'C', 'PYTHON', 'C#']},\n",
       " dict)"
      ]
     },
     "execution_count": 1,
     "metadata": {},
     "output_type": "execute_result"
    }
   ],
   "source": [
    "import pandas as pd\n",
    "\n",
    "data = {\n",
    " '이름' : ['채치수', '정대만', '송태섭', '서태웅', '강백호', '변덕규', '황태산', '윤대협'], '학교' : ['북산고', '북산고', '북산고', '북산고', '북산고', '능남고', '능남고', '능남고'],\n",
    " '키' : [197, 184, 168, 187, 188, 202, 188, 190],\n",
    " '국어' : [90, 40, 80, 40, 15, 80, 55, 100],\n",
    " '영어' : [85, 35, 75, 60, 20, 100, 65, 85],\n",
    " '수학' : [100, 50, 70, 70, 10, 95, 45, 90],\n",
    " '과학' : [95, 55, 80, 75, 35, 85, 40, 95],\n",
    " '사회' : [85, 25, 75, 80, 10, 80, 35, 95],\n",
    " 'SW특기' : ['Python', 'Java', 'Javascript', '', '', 'C', 'PYTHON', 'C#']\n",
    "}\n",
    "data, type(data)"
   ]
  }
 ],
 "metadata": {
  "kernelspec": {
   "display_name": "Python 3",
   "language": "python",
   "name": "python3"
  },
  "language_info": {
   "codemirror_mode": {
    "name": "ipython",
    "version": 3
   },
   "file_extension": ".py",
   "mimetype": "text/x-python",
   "name": "python",
   "nbconvert_exporter": "python",
   "pygments_lexer": "ipython3",
   "version": "3.12.2"
  }
 },
 "nbformat": 4,
 "nbformat_minor": 2
}
